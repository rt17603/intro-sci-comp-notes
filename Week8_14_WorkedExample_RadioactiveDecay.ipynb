{
 "cells": [
  {
   "cell_type": "markdown",
   "metadata": {},
   "source": [
    "# Radioactive decay (first order reaction)"
   ]
  },
  {
   "cell_type": "markdown",
   "metadata": {},
   "source": [
    "One example of modelling random behaviour would be when considering radioactive decay - where a parent radioactive isotope decays into a daughter isotope.\n",
    "\n",
    "If we consider the simplest case of a nucleus decaying to one daughter product, we need to know the decay constant i.e. the probability a nuclei will decay in a given time interval."
   ]
  },
  {
   "cell_type": "code",
   "execution_count": 1,
   "metadata": {},
   "outputs": [],
   "source": [
    "import numpy as np\n",
    "from numpy import random"
   ]
  },
  {
   "cell_type": "code",
   "execution_count": 2,
   "metadata": {},
   "outputs": [],
   "source": [
    "seed = 20\n",
    "rng = random.default_rng(seed)"
   ]
  },
  {
   "cell_type": "code",
   "execution_count": 3,
   "metadata": {},
   "outputs": [],
   "source": [
    "probability_of_decay = 0.1  # per second\n",
    "decay_sample = rng.random()"
   ]
  },
  {
   "cell_type": "markdown",
   "metadata": {},
   "source": [
    "We can generate a random number which is associated with a nucleus but how do we relate this to the probability it has decayed?\n",
    "\n",
    "We can compare our random number to the `probability_of_decay` variable to check this. If you ran this cell 10 times, approximately how many times would you expect this to print out \"Nuclei has decayed\" based on the `probability_of_decay` value of 0.1?"
   ]
  },
  {
   "cell_type": "code",
   "execution_count": 4,
   "metadata": {},
   "outputs": [
    {
     "name": "stdout",
     "output_type": "stream",
     "text": [
      "0.2800759626301593\n",
      "Nucleus has not decayed\n"
     ]
    }
   ],
   "source": [
    "print(decay_sample)\n",
    "if decay_sample <= probability_of_decay:\n",
    "    print(\"Nucleus has decayed\")\n",
    "else:\n",
    "    print(\"Nucleus has not decayed\")"
   ]
  },
  {
   "cell_type": "markdown",
   "metadata": {},
   "source": [
    "How would we do this for a large number of atoms? In the previous notebook we discussed how to generate random numbers for a whole sample at once:"
   ]
  },
  {
   "cell_type": "code",
   "execution_count": 5,
   "metadata": {},
   "outputs": [
    {
     "name": "stdout",
     "output_type": "stream",
     "text": [
      "[0.46114671 0.12171969 0.52260835 0.40916841 0.07163955 0.09896668\n",
      " 0.98628836 0.69406788 0.44868846 0.64017681]\n"
     ]
    }
   ],
   "source": [
    "number_of_atoms = 10\n",
    "decay_sample = rng.random(number_of_atoms)\n",
    "print(decay_sample)"
   ]
  },
  {
   "cell_type": "markdown",
   "metadata": {},
   "source": [
    "For the comparison step, we could loop through these values and check them against `probability_of_decay`:"
   ]
  },
  {
   "cell_type": "code",
   "execution_count": 6,
   "metadata": {},
   "outputs": [
    {
     "name": "stdout",
     "output_type": "stream",
     "text": [
      "Nucleus 1 has not decayed\n",
      "Nucleus 2 has not decayed\n",
      "Nucleus 3 has not decayed\n",
      "Nucleus 4 has not decayed\n",
      "Nucleus 5 has decayed\n",
      "Nucleus 6 has decayed\n",
      "Nucleus 7 has not decayed\n",
      "Nucleus 8 has not decayed\n",
      "Nucleus 9 has not decayed\n",
      "Nucleus 10 has not decayed\n"
     ]
    }
   ],
   "source": [
    "for i, decay in enumerate(decay_sample):\n",
    "    if decay <= probability_of_decay:\n",
    "        print(f\"Nucleus {i+1} has decayed\")\n",
    "    else:\n",
    "        print(f\"Nucleus {i+1} has not decayed\")"
   ]
  },
  {
   "cell_type": "markdown",
   "metadata": {},
   "source": [
    "However, one feature of `numpy` arrays is that we can compare conditions to the whole array at once. This will check the values element-wise, meaning each element will be compared against the condition separately:"
   ]
  },
  {
   "cell_type": "code",
   "execution_count": 7,
   "metadata": {},
   "outputs": [
    {
     "data": {
      "text/plain": [
       "array([False, False, False, False,  True,  True, False, False, False,\n",
       "       False])"
      ]
     },
     "execution_count": 7,
     "metadata": {},
     "output_type": "execute_result"
    }
   ],
   "source": [
    "decay_sample <= probability_of_decay"
   ]
  },
  {
   "cell_type": "markdown",
   "metadata": {},
   "source": [
    "This operation produces another array which is the same length as the original array but contains boolean values (`True` or `False`). Here we can see which comparisons evaluate to `True`, indicating which atoms have decayed in this time step."
   ]
  },
  {
   "cell_type": "markdown",
   "metadata": {},
   "source": [
    "Furthermore, we can even use this output to filter our original array. This uses the `True` and `False` values to map to the original array, one for each item, and filters it to only retain those elements which map to `True`:"
   ]
  },
  {
   "cell_type": "code",
   "execution_count": 8,
   "metadata": {},
   "outputs": [
    {
     "name": "stdout",
     "output_type": "stream",
     "text": [
      "[0.07163955 0.09896668]\n",
      "Number decayed in this time step: 2\n"
     ]
    }
   ],
   "source": [
    "sample_decayed = decay_sample[decay_sample <= probability_of_decay]\n",
    "print(sample_decayed)\n",
    "print(f\"Number decayed in this time step: {len(sample_decayed)}\")"
   ]
  },
  {
   "cell_type": "markdown",
   "metadata": {},
   "source": [
    "This is called [*Boolean array indexing*](https://numpy.org/doc/stable/reference/arrays.indexing.html#boolean-array-indexing)"
   ]
  },
  {
   "cell_type": "markdown",
   "metadata": {},
   "source": [
    "---"
   ]
  },
  {
   "cell_type": "markdown",
   "metadata": {},
   "source": [
    "### Question:\n",
    "\n",
    " - Using the same syntax as above to filter a numpy array, how would you filter `decay_sample` to only include the atoms which have *not* decayed?"
   ]
  },
  {
   "cell_type": "code",
   "execution_count": 9,
   "metadata": {},
   "outputs": [],
   "source": [
    "# CAN ADD CODE HERE"
   ]
  },
  {
   "cell_type": "markdown",
   "metadata": {},
   "source": [
    "---"
   ]
  },
  {
   "cell_type": "markdown",
   "metadata": {},
   "source": [
    "## Creating a model of decaying nuclei\n",
    "\n",
    "We can use this setup to consider of a set of radioactive nuclei and model their probabilistic behaviour as they decay. For this simple model, we don't care *which* atoms have decayed only *how many* so for each time step we can assess how many atoms have decayed and how many remain.\n",
    "\n",
    "We can start with the total number of atoms and consider how many have decayed:"
   ]
  },
  {
   "cell_type": "code",
   "execution_count": 10,
   "metadata": {},
   "outputs": [
    {
     "name": "stdout",
     "output_type": "stream",
     "text": [
      "Number of atoms decayed in time step 1: 110\n"
     ]
    }
   ],
   "source": [
    "number_of_atoms = 1000\n",
    "probability_of_decay = 0.1  # per time step (second)\n",
    "\n",
    "decay_sample = rng.random(number_of_atoms)\n",
    "atoms_decayed = decay_sample[decay_sample<=probability_of_decay]\n",
    "num_decayed = len(atoms_decayed)\n",
    "print(f\"Number of atoms decayed in time step 1: {num_decayed}\")"
   ]
  },
  {
   "cell_type": "markdown",
   "metadata": {},
   "source": [
    "For the next time step we now have fewer atoms available to decay, so we should update the number of random samples we wish to produce:"
   ]
  },
  {
   "cell_type": "code",
   "execution_count": 11,
   "metadata": {},
   "outputs": [
    {
     "name": "stdout",
     "output_type": "stream",
     "text": [
      "Number of atoms remaining after time step 1: 890\n"
     ]
    }
   ],
   "source": [
    "num_remaining = number_of_atoms # initial number\n",
    "num_remaining -= num_decayed # reduce by number of atoms decayed\n",
    "print(f\"Number of atoms remaining after time step 1: {num_remaining}\")"
   ]
  },
  {
   "cell_type": "markdown",
   "metadata": {},
   "source": [
    "We can then generate a new set of random numbers for the next time step:"
   ]
  },
  {
   "cell_type": "code",
   "execution_count": 12,
   "metadata": {},
   "outputs": [
    {
     "name": "stdout",
     "output_type": "stream",
     "text": [
      "Number of atoms remaining after time step 2: 790\n"
     ]
    }
   ],
   "source": [
    "decay_sample = rng.random(num_remaining)\n",
    "atoms_decayed = decay_sample[decay_sample<=probability_of_decay]\n",
    "num_decayed = len(atoms_decayed)\n",
    "num_remaining -= num_decayed\n",
    "print(f\"Number of atoms remaining after time step 2: {num_remaining}\")"
   ]
  },
  {
   "cell_type": "markdown",
   "metadata": {},
   "source": [
    "What sort of loop would we want to use to iterate over this? What do need to know to end the model run? For this model, ideally we want to stop running as soon as all of the atoms have decayed. We could use either `num_remaining` or `num_decayed` to check this as they are equivalent."
   ]
  },
  {
   "cell_type": "code",
   "execution_count": 13,
   "metadata": {},
   "outputs": [],
   "source": [
    "import numpy as np\n",
    "from numpy import random\n",
    "\n",
    "# Create Random Number Generator with known seed\n",
    "seed = 1\n",
    "rng = random.default_rng(seed)\n",
    "\n",
    "# Define input parameters\n",
    "probability_of_decay = 0.1  # per time step (second)\n",
    "time_step = 1 # second\n",
    "\n",
    "# Set initial parameters\n",
    "number_of_atoms = 1000"
   ]
  },
  {
   "cell_type": "code",
   "execution_count": 14,
   "metadata": {},
   "outputs": [
    {
     "name": "stdout",
     "output_type": "stream",
     "text": [
      "Number of undecayed atoms: 1000\n",
      "Number of undecayed atoms: 908\n",
      "Number of undecayed atoms: 821\n",
      "Number of undecayed atoms: 730\n",
      "Number of undecayed atoms: 650\n",
      "Number of undecayed atoms: 591\n",
      "Number of undecayed atoms: 525\n",
      "Number of undecayed atoms: 477\n",
      "Number of undecayed atoms: 426\n",
      "Number of undecayed atoms: 383\n",
      "Number of undecayed atoms: 351\n",
      "Number of undecayed atoms: 319\n",
      "Number of undecayed atoms: 282\n",
      "Number of undecayed atoms: 253\n",
      "Number of undecayed atoms: 223\n",
      "Number of undecayed atoms: 202\n",
      "Number of undecayed atoms: 181\n",
      "Number of undecayed atoms: 170\n",
      "Number of undecayed atoms: 155\n",
      "Number of undecayed atoms: 137\n",
      "Number of undecayed atoms: 128\n",
      "Number of undecayed atoms: 117\n",
      "Number of undecayed atoms: 108\n",
      "Number of undecayed atoms: 90\n",
      "Number of undecayed atoms: 81\n",
      "Number of undecayed atoms: 71\n",
      "Number of undecayed atoms: 65\n",
      "Number of undecayed atoms: 55\n",
      "Number of undecayed atoms: 55\n",
      "Number of undecayed atoms: 47\n",
      "Number of undecayed atoms: 44\n",
      "Number of undecayed atoms: 39\n",
      "Number of undecayed atoms: 34\n",
      "Number of undecayed atoms: 30\n",
      "Number of undecayed atoms: 27\n",
      "Number of undecayed atoms: 22\n",
      "Number of undecayed atoms: 20\n",
      "Number of undecayed atoms: 17\n",
      "Number of undecayed atoms: 13\n",
      "Number of undecayed atoms: 12\n",
      "Number of undecayed atoms: 11\n",
      "Number of undecayed atoms: 11\n",
      "Number of undecayed atoms: 9\n",
      "Number of undecayed atoms: 8\n",
      "Number of undecayed atoms: 4\n",
      "Number of undecayed atoms: 3\n",
      "Number of undecayed atoms: 3\n",
      "Number of undecayed atoms: 2\n",
      "Number of undecayed atoms: 2\n",
      "Number of undecayed atoms: 1\n",
      "Number of undecayed atoms: 1\n",
      "Number of undecayed atoms: 1\n",
      "Number of undecayed atoms: 1\n",
      "Number of undecayed atoms: 1\n",
      "Number of undecayed atoms: 1\n",
      "Number of undecayed atoms: 1\n",
      "Number of undecayed atoms: 1\n",
      "Number of undecayed atoms: 1\n",
      "Number of undecayed atoms: 1\n"
     ]
    }
   ],
   "source": [
    "atoms_remaining = []\n",
    "num_decayed = 0\n",
    "\n",
    "num_remaining = number_of_atoms\n",
    "while num_remaining > 0:\n",
    "    # Add number of atoms at each step to list\n",
    "    atoms_remaining.append(num_remaining)\n",
    "    print(f\"Number of undecayed atoms: {num_remaining}\")\n",
    "    \n",
    "    # Generate random probabilites of decay (between 0 and 1, one for each parent nucleus)\n",
    "    decay_sample = rng.random(num_remaining)\n",
    "    \n",
    "    # Filter decay_sample to only include atoms which have decayed\n",
    "    atoms_decayed = decay_sample[decay_sample<=probability_of_decay]\n",
    "    \n",
    "    # Calculate total number of decayed atoms and update number remaining\n",
    "    num_decayed = len(atoms_decayed)\n",
    "    num_remaining -= num_decayed\n",
    "\n",
    "atoms_remaining = np.array(atoms_remaining, dtype=int)\n",
    "time = np.arange(0,len(atoms_remaining))*time_step"
   ]
  },
  {
   "cell_type": "code",
   "execution_count": 15,
   "metadata": {},
   "outputs": [
    {
     "name": "stdout",
     "output_type": "stream",
     "text": [
      "Number of steps: 59\n"
     ]
    }
   ],
   "source": [
    "print(f\"Number of steps: {len(atoms_remaining)}\")"
   ]
  },
  {
   "cell_type": "code",
   "execution_count": 16,
   "metadata": {},
   "outputs": [
    {
     "data": {
      "text/plain": [
       "<matplotlib.legend.Legend at 0x24f5e50de50>"
      ]
     },
     "execution_count": 16,
     "metadata": {},
     "output_type": "execute_result"
    },
    {
     "data": {
      "image/png": "[encoded data removed]",
      "text/plain": [
       "<Figure size 432x288 with 1 Axes>"
      ]
     },
     "metadata": {
      "needs_background": "light"
     },
     "output_type": "display_data"
    }
   ],
   "source": [
    "import matplotlib.pyplot as plt\n",
    "\n",
    "fig,ax = plt.subplots()\n",
    "\n",
    "ax.scatter(time, atoms_remaining, marker='+', label=\"Number of undecayed atoms\")\n",
    "\n",
    "ax.set_xlabel(\"Time\")\n",
    "ax.set_ylabel(\"Number\")\n",
    "ax.legend()"
   ]
  },
  {
   "cell_type": "markdown",
   "metadata": {},
   "source": [
    "We can look at this same plot as a logorithm. To do this we can calculate the log of our `atoms_remaining` array using the `log()` function available within `numpy`. We should see this as a constant decay:"
   ]
  },
  {
   "cell_type": "code",
   "execution_count": 17,
   "metadata": {},
   "outputs": [
    {
     "data": {
      "text/plain": [
       "<matplotlib.legend.Legend at 0x24f5e5a8f10>"
      ]
     },
     "execution_count": 17,
     "metadata": {},
     "output_type": "execute_result"
    },
    {
     "data": {
      "image/png": "[encoded data removed]",
      "text/plain": [
       "<Figure size 432x288 with 1 Axes>"
      ]
     },
     "metadata": {
      "needs_background": "light"
     },
     "output_type": "display_data"
    }
   ],
   "source": [
    "log_atoms_remaining = np.log(atoms_remaining)\n",
    "\n",
    "fig,ax = plt.subplots()\n",
    "\n",
    "ax.scatter(time, atoms_remaining, marker='+', label=\"Number of undecayed atoms\")\n",
    "ax.set_yscale('log')\n",
    "\n",
    "ax.set_xlabel(\"Time\")\n",
    "ax.set_ylabel(\"Number\")\n",
    "ax.legend()"
   ]
  },
  {
   "cell_type": "markdown",
   "metadata": {},
   "source": [
    "Overall this *is* a constant decay but when we reach low numbers, we start to see deviation due to the nature of probability and low number statistics.\n",
    "\n",
    "Notice that the probability we sampled from was a *uniform* distribution, but the output we produced from the model is an exponential relationship - we derived the exponential form using this model."
   ]
  },
  {
   "cell_type": "markdown",
   "metadata": {},
   "source": [
    "## Deriving statistics\n",
    "\n",
    "The half-life is the time it takes for half of the nuclei to decay. This is related to the decay constant by the equation:\n",
    "\n",
    "$$ t_{\\frac{1}{2}} = \\frac{\\ln(2)}{\\lambda} $$\n",
    "\n",
    "where:\n",
    " - $t_{\\frac{1}{2}}$ - time taken for half of the nuclei to decay (s)\n",
    " - $\\lambda$ - decay rate (s$^{-1}$)\n",
    " \n",
    "Because we have used time steps equal to 1 second that means that our `probability_of_decay` is the same as the decay rate, $\\lambda$, for this model."
   ]
  },
  {
   "cell_type": "markdown",
   "metadata": {},
   "source": [
    "---"
   ]
  },
  {
   "cell_type": "markdown",
   "metadata": {},
   "source": [
    "### Exercise C\n",
    "\n",
    " 1. Calculate the half-life for the model created above using this equation.\n",
    " 2. Using `atoms_remaining` can you find the nearest array element which would represent the half-life?\n",
    "  - To find the *nearest* value within an array you can start by taking the original array and subtracting the value you want to find.\n",
    "     - In this case you want to compare to the value of `number_of_atoms/2`\n",
    "  - You can then find the smallest magnitude difference and the index that equates to.\n",
    " 3. What time value does this equate to within `time` array? How does this compare to the half-life value calculated using the equation?\n",
    " 4. The radioative isotope Cobalt-60 has a half-life of 5.26 years. What would you need to update in the model above to simulate this radioactive decay? What would this look like if you re-ran the model with this value?\n",
    " \n",
    "*Hint:*\n",
    " - *The `np.abs()` function can be used to calculate the absolute magnitude i.e. the value regardless of whether this is positive or negative.*"
   ]
  },
  {
   "cell_type": "code",
   "execution_count": 18,
   "metadata": {},
   "outputs": [],
   "source": [
    "# CAN ADD CODE HERE"
   ]
  },
  {
   "cell_type": "code",
   "execution_count": 19,
   "metadata": {},
   "outputs": [],
   "source": [
    "# CAN ADD CODE HERE"
   ]
  },
  {
   "cell_type": "code",
   "execution_count": 20,
   "metadata": {},
   "outputs": [],
   "source": [
    "# CAN ADD CODE HERE"
   ]
  },
  {
   "cell_type": "code",
   "execution_count": 21,
   "metadata": {},
   "outputs": [],
   "source": [
    "# CAN ADD CODE HERE"
   ]
  },
  {
   "cell_type": "markdown",
   "metadata": {},
   "source": [
    "---"
   ]
  }
 ],
 "metadata": {
  "kernelspec": {
   "display_name": "Python 3",
   "language": "python",
   "name": "python3"
  },
  "language_info": {
   "codemirror_mode": {
    "name": "ipython",
    "version": 3
   },
   "file_extension": ".py",
   "mimetype": "text/x-python",
   "name": "python",
   "nbconvert_exporter": "python",
   "pygments_lexer": "ipython3",
   "version": "3.8.3"
  }
 },
 "nbformat": 4,
 "nbformat_minor": 4
}
