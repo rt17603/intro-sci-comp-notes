{
 "cells": [
  {
   "cell_type": "markdown",
   "metadata": {},
   "source": [
    "# Code Wars competition"
   ]
  },
  {
   "cell_type": "markdown",
   "metadata": {},
   "source": [
    "**Within your group**, you should attempt to complete as many challenges on the Code Wars website within 15 minutes as you can.\n",
    "\n",
    "You can all work on your own challenges but should help each other, ask questions and collaborate as you go along. It will be the total score from your group at the end that counts, so helping each other will boost that score!\n",
    "\n",
    "- If you haven't already, **sign up for a *Code Wars* account now**:\n",
    "     - https://www.codewars.com/join\n",
    "- When selecting a challenge, 8kyu is the easiest and 6kyu is the hardest. In the final score, each 8kyu completed will be worth 1 point, 7kyu worth 2 points and 6kyu worth 3 points. Feel free to each pick the level you are comfortable with but challenge yourself to get more points and a higher overall score.\n",
    "- You have a **strict 15 minutes** for this activity, so get started as soon as we send you into your break out rooms (we'll give you time beforehand to get ready and read through the [Functions notebook](Week11_19_Functions.ipynb)).\n",
    "\n",
    "**Fill in your final group score** (and pick a team name if you like) on this [Google Sheet document](https://docs.google.com/spreadsheets/d/1uqHFCRuSg2LPZRlU5hPpky0Xr6qYzf1UZ55mMik1CCI/edit?usp=sharing)."
   ]
  },
  {
   "cell_type": "markdown",
   "metadata": {},
   "source": [
    "---"
   ]
  },
  {
   "cell_type": "markdown",
   "metadata": {},
   "source": [
    "## Refresher\n",
    "\n",
    "### Accessing challenges (kata) on Code Wars\n",
    "\n",
    "The top panel on the [home page (dashboard)](https://www.codewars.com/dashboard) is the panel to focus on in this activity.\n",
    "\n",
    "<img src=\"images/CodeWars_use_fullpage-panel.svg\" alt=\"CodeWars - Top panel\" style=\"display:block;margin-left:auto;margin-right:auto;width:90%\"/>"
   ]
  },
  {
   "cell_type": "markdown",
   "metadata": {},
   "source": [
    "Make sure Python is selected for your language, use the dropdown to select if not.\n",
    "\n",
    "<img src=\"images/CodeWars_use_1-choose-python.svg\" alt=\"CodeWars - Choose Python\" style=\"display:block;margin-left:auto;margin-right:auto;width:75%\"/>"
   ]
  },
  {
   "cell_type": "markdown",
   "metadata": {},
   "source": [
    "Select \"Fundamentals\" from the drop down.\n",
    "\n",
    "<img src=\"images/CodeWars_use_2-choose-fundamentals.svg\" alt=\"CodeWars - Choose Fundamentals\" style=\"display:block;margin-left:auto;margin-right:auto;width:75%\"/>"
   ]
  },
  {
   "cell_type": "markdown",
   "metadata": {},
   "source": [
    "The right panel gives a description the challenge selected. Particularly check the *kyu* value - you should see a range from 6-8 kyu where **8 is the easiest, 6 is the hardest**.\n",
    "\n",
    "<img src=\"images/CodeWars_use_3-challenge-to-complete.svg\" alt=\"CodeWars - Challenge\" style=\"display:block;margin-left:auto;margin-right:auto;width:75%\"/>"
   ]
  },
  {
   "cell_type": "markdown",
   "metadata": {},
   "source": [
    "If you want to skip and look at the next challenge choose \"Skip\".\n",
    "\n",
    "<img src=\"images/CodeWars_use_4-skip.svg\" alt=\"CodeWars - Skip\" style=\"display:block;margin-left:auto;margin-right:auto;width:75%\"/>"
   ]
  },
  {
   "cell_type": "markdown",
   "metadata": {},
   "source": [
    "If you're happy with this challenge select \"Train\" and get started.\n",
    "\n",
    "<img src=\"images/CodeWars_use_5-train.svg\" alt=\"CodeWars - Complete Kata and Add Code\" style=\"display:block;margin-left:auto;margin-right:auto;width:75%\"/>"
   ]
  },
  {
   "cell_type": "markdown",
   "metadata": {},
   "source": [
    "Fill in the code block on the right to complete the function and when ready click \"Attempt\".\n",
    "\n",
    "<img src=\"images/CodeWars_kata_example-1-add-code.svg\" alt=\"CodeWars - Add Code\" style=\"display:block;margin-left:auto;margin-right:auto;width:90%\"/>"
   ]
  },
  {
   "cell_type": "markdown",
   "metadata": {},
   "source": [
    "If all the tests pass, that means you code works! Click \"Submit\" to finish.\n",
    "\n",
    "<img src=\"images/CodeWars_kata_example_2-test-and-submit.svg\" alt=\"CodeWars - Submit\" style=\"display:block;margin-left:auto;margin-right:auto;width:90%\"/>"
   ]
  },
  {
   "cell_type": "markdown",
   "metadata": {},
   "source": [
    "This will take you a discussion page which will show how other people solved this challenge. When ready click the **Home button** at the top left to return to the [home page (dashboard)](https://www.codewars.com/dashboard) and try another challenge (Kata).\n",
    "\n",
    "<img src=\"images/CodeWars_kata_example_3-discussion.svg\" alt=\"CodeWars - Submit\" style=\"display:block;margin-left:auto;margin-right:auto;width:90%\"/>"
   ]
  },
  {
   "cell_type": "markdown",
   "metadata": {},
   "source": [
    "---"
   ]
  }
 ],
 "metadata": {
  "kernelspec": {
   "display_name": "Python 3",
   "language": "python",
   "name": "python3"
  },
  "language_info": {
   "codemirror_mode": {
    "name": "ipython",
    "version": 3
   },
   "file_extension": ".py",
   "mimetype": "text/x-python",
   "name": "python",
   "nbconvert_exporter": "python",
   "pygments_lexer": "ipython3",
   "version": "3.8.3"
  }
 },
 "nbformat": 4,
 "nbformat_minor": 4
}
