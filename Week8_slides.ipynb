{
 "cells": [
  {
   "cell_type": "markdown",
   "metadata": {
    "slideshow": {
     "slide_type": "slide"
    }
   },
   "source": [
    "# Introductory Scientific Computing\n",
    "\n",
    "## Week 8: Probability and random numbers"
   ]
  },
  {
   "cell_type": "markdown",
   "metadata": {
    "slideshow": {
     "slide_type": "slide"
    }
   },
   "source": [
    "## Previous session (Week 7)\n",
    "\n",
    "In the previous workshop we:\n",
    "\n",
    " - Explored some of functionality offered by `numpy` numerical methods and arrays\n",
    " - Used this to generate and evaluate a simple numerical model"
   ]
  },
  {
   "cell_type": "markdown",
   "metadata": {
    "slideshow": {
     "slide_type": "slide"
    }
   },
   "source": [
    "## Today's session (Week 8)\n",
    "\n",
    "**Aim**: Learn how to generate and use random numbers\n",
    "\n",
    "1. Look at a simple random number generator and \n",
    "  - [Week8_12_RandomNumberGenerator](Week8_12_RandomNumberGenerator.ipynb)\n",
    "2. Introduce the `numpy.random` module:\n",
    "  - [Week8_13_Numpy_Random](Week8_13_Numpy_Random.ipynb)\n",
    "3. Radioactive decay (first order reaction): worked example\n",
    "  - [Week8_14_WorkedExample_RadioactiveDecay](Week8_14_WorkedExample_RadioactiveDecay.ipynb)"
   ]
  },
  {
   "cell_type": "markdown",
   "metadata": {
    "slideshow": {
     "slide_type": "slide"
    }
   },
   "source": [
    "# Probability and randomness\n",
    "\n",
    "<table style=\"font-size:1.0em;border-spacing:15px;border-collapse:initial\">\n",
    "    <thead>\n",
    "        <th style=\"text-align:center\">Radioactive Decay</th>\n",
    "        <th style=\"text-align:center\">Coin Toss</th>\n",
    "        <th style=\"text-align:center\">Collision frequency</th>\n",
    "    </thead>\n",
    "    <tbody>\n",
    "        <td style=\"width:33%;text-align:left;vertical-align:top;background-color:white\">\n",
    "            <img src=\"images/example1-radioactive-decay.png\" alt=\"Radioactive decay\" style=\"display:block;margin-left:auto;margin-right:auto;width:60%\"/>\n",
    "        <td style=\"width:33%;text-align:left;vertical-align:top;background-color:white\">\n",
    "            <img src=\"images/example2-coin-toss.png\" alt=\"Coin Toss\" style=\"display:block;margin-left:auto;margin-right:auto;width:55%\"/>\n",
    "        <td style=\"width:33%;text-align:left;vertical-align:top;background-color:white\">\n",
    "            <img src=\"images/example3-molecular-collisions.png\" alt=\"Molecular collision\" style=\"display:block;margin-left:auto;margin-right:auto;width:75%\"/>\n",
    "    </tbody>\n",
    "</table>"
   ]
  },
  {
   "cell_type": "markdown",
   "metadata": {
    "slideshow": {
     "slide_type": "slide"
    }
   },
   "source": [
    "## How do we reproduce the idea of probability and randomness in code?"
   ]
  },
  {
   "cell_type": "markdown",
   "metadata": {
    "slideshow": {
     "slide_type": "fragment"
    }
   },
   "source": [
    "This can be done using **Random number generation**."
   ]
  },
  {
   "cell_type": "markdown",
   "metadata": {
    "slideshow": {
     "slide_type": "fragment"
    }
   },
   "source": [
    "In computing, this is the process of producing a series of numbers which cannot be easily predicted and generally using some underlying algorithm."
   ]
  },
  {
   "cell_type": "markdown",
   "metadata": {
    "slideshow": {
     "slide_type": "slide"
    }
   },
   "source": [
    "## Random number generator\n",
    "\n",
    "The first notebook for this week investigates a very simple random number generator which we could create.\n",
    "\n",
    "You will be split into groups and placed in **breakout rooms**.\n",
    "\n",
    "Work through the first notebook for this week which starts by investigating a very simple random number generator we can create:\n",
    " - Access the Week 8 notebook: [Week8_12_RandomNumberGenerator](Week8_12_RandomNumberGenerator.ipynb)\n",
    " - Go through the questions and discussion points\n",
    " - **10-15 minutes**"
   ]
  },
  {
   "cell_type": "markdown",
   "metadata": {
    "slideshow": {
     "slide_type": "slide"
    }
   },
   "source": [
    "## Random versus Pseudo-random\n",
    "\n",
    "Pseudo-random number generators are based on an algorithm and a known starting point (seed)"
   ]
  },
  {
   "cell_type": "markdown",
   "metadata": {
    "slideshow": {
     "slide_type": "fragment"
    }
   },
   "source": [
    "This means that model runs can be exactly reproduced even when random elements are included."
   ]
  },
  {
   "cell_type": "markdown",
   "metadata": {
    "slideshow": {
     "slide_type": "fragment"
    }
   },
   "source": [
    "The sequence will eventually repeat BUT this would only be after many, many iterations for a good random number generator."
   ]
  },
  {
   "cell_type": "markdown",
   "metadata": {
    "slideshow": {
     "slide_type": "slide"
    }
   },
   "source": [
    "## `numpy.random`\n",
    "\n",
    "The `numpy` module provides us with a way to generate random number using the `random` sub-module.\n",
    "\n",
    "Work through the next notebook to see how this is done:\n",
    "\n",
    "[*Week8_13_Numpy_Random*](Week8_13_Numpy_Random.ipynb)"
   ]
  },
  {
   "cell_type": "markdown",
   "metadata": {
    "slideshow": {
     "slide_type": "slide"
    }
   },
   "source": [
    "## Worked example: radioactive decay\n",
    "\n",
    "Work through the notes for the worked example: how can we use the `numpy.random` module to simulate radioactive decay?\n",
    "\n",
    "[*Week8_14_WorkedExample_RadioactiveDecay*](Week8_14_WorkedExample_RadioactiveDecay.ipynb)"
   ]
  },
  {
   "cell_type": "markdown",
   "metadata": {
    "slideshow": {
     "slide_type": "slide"
    }
   },
   "source": [
    "# Before the next workshop (Week 9)\n",
    "## Asynchronous activities to be completed before Tuesday, 1st December\n",
    "\n",
    "Go to: [Introductory Scientific Computing course page (DLM)](https://dlm.chm.bris.ac.uk/dlm2020-21/course/view.php?id=690)\n",
    "\n",
    "### [Activity 1](https://uob.sharepoint.com/:v:/t/grp-chem-curriculum/EY3myPIA1W1Kiq0oikrmHTkBE3nl-5t1Lp5IcZghJZqwWQ)\n",
    "\n",
    "Short presentation on the concept of random sampling - where a sub-sample is chosen randomly as a way to simplify and solve problems.\n",
    "\n",
    "### [Activity 2](https://uob.sharepoint.com/:v:/t/grp-chem-curriculum/ESvquEdpxf1DrU4v9qtM1aoBrPF-fKO18CX9xkcbZ73Sgg)\n",
    "\n",
    "Short presentation discussing multi-dimensional arrays and indexing.\n",
    "\n",
    "**Quiz**: Followed by a [short quiz](https://dlm.chm.bris.ac.uk/dlm2020-21/mod/quiz/view.php?id=13418) (not assessed) for the second video topic."
   ]
  },
  {
   "cell_type": "markdown",
   "metadata": {
    "slideshow": {
     "slide_type": "slide"
    }
   },
   "source": [
    "## Weekly assessment\n",
    "\n",
    "Small programming task to be completed and submitted before the next workshop.  Will be released at the end of this session at 4pm. \n",
    "\n",
    "**Deadline: Tuesday, 1st December at 1pm (Week 9)**\n",
    "\n",
    "To access your assessment:\n",
    "\n",
    "- Access the \"Assignments\" tab on Noteable to see the list of available assessments\n",
    "- Use [Groups for marking assessments document](https://uob.sharepoint.com/:w:/t/grp-chem-curriculum/EXlQrsAARZhCoy3rH_3jOVsBt8iQADBVMffHzIdDSjGVwg?e=bou3Q7) to remind yourself which group you are in for marking\n",
    "- Download Week8_assessment-* assignment for the relevant group"
   ]
  }
 ],
 "metadata": {
  "kernelspec": {
   "display_name": "Python 3",
   "language": "python",
   "name": "python3"
  },
  "language_info": {
   "codemirror_mode": {
    "name": "ipython",
    "version": 3
   },
   "file_extension": ".py",
   "mimetype": "text/x-python",
   "name": "python",
   "nbconvert_exporter": "python",
   "pygments_lexer": "ipython3",
   "version": "3.8.3"
  }
 },
 "nbformat": 4,
 "nbformat_minor": 4
}
