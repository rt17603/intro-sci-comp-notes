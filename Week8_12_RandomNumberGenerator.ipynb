{
 "cells": [
  {
   "cell_type": "markdown",
   "metadata": {},
   "source": [
    "# Random number generator"
   ]
  },
  {
   "cell_type": "markdown",
   "metadata": {},
   "source": [
    "To demonstrate how computers could start to generate random numbers, we're going to have a look at a pseudorandom number generator called a linear congruential generator (LCG). This is defined by the equation:\n",
    "\n",
    "$$x_{n+1} = (a \\times  x_{n} + c)\\,(\\mathrm{mod}\\ m)$$\n",
    "$$\\mathrm{where}$$\n",
    "$$m > 0; 0 < a < m; 0 < c \\leq m$$\n",
    "\n",
    "We start with a seed value i.e. a value to set our starting value, $x_0$"
   ]
  },
  {
   "cell_type": "code",
   "execution_count": 1,
   "metadata": {},
   "outputs": [],
   "source": [
    "seed = 0"
   ]
  },
  {
   "cell_type": "code",
   "execution_count": 2,
   "metadata": {},
   "outputs": [],
   "source": [
    "m = 9\n",
    "a = 4\n",
    "c = 1"
   ]
  },
  {
   "cell_type": "code",
   "execution_count": 3,
   "metadata": {},
   "outputs": [
    {
     "name": "stdout",
     "output_type": "stream",
     "text": [
      "1\n",
      "5\n",
      "3\n",
      "4\n",
      "8\n",
      "6\n",
      "7\n",
      "2\n",
      "0\n",
      "1\n",
      "5\n",
      "3\n",
      "4\n",
      "8\n",
      "6\n",
      "7\n",
      "2\n",
      "0\n",
      "1\n",
      "5\n"
     ]
    }
   ],
   "source": [
    "number_of_values = 20\n",
    "x = seed\n",
    "for i in range(number_of_values):\n",
    "    x = (a*x+c)%m\n",
    "    print(x)"
   ]
  },
  {
   "cell_type": "markdown",
   "metadata": {},
   "source": [
    "As we saw last week with the bouncing ball example, I have copied this code into a *function* below. Inputs must be provided for the `seed` and `number_of_values`. Values for `m`, `a` and `c` can also be provided but, if not, the default values of 9, 4 and 1 are used."
   ]
  },
  {
   "cell_type": "code",
   "execution_count": 4,
   "metadata": {},
   "outputs": [],
   "source": [
    "def lcg_random(seed, number_of_values, m=9, a=4, c=1):\n",
    "    x = seed\n",
    "    for i in range(number_of_values):\n",
    "        x = (a*x+c)%m\n",
    "        print(x)"
   ]
  },
  {
   "cell_type": "markdown",
   "metadata": {},
   "source": [
    "This allows us to easily re-run this code with different values. The function can be used in the following way, where arguments are supplied in the correct order:"
   ]
  },
  {
   "cell_type": "code",
   "execution_count": 5,
   "metadata": {},
   "outputs": [
    {
     "name": "stdout",
     "output_type": "stream",
     "text": [
      "1\n",
      "5\n",
      "3\n",
      "4\n",
      "8\n",
      "6\n",
      "7\n",
      "2\n",
      "0\n",
      "1\n",
      "5\n",
      "3\n",
      "4\n",
      "8\n",
      "6\n",
      "7\n",
      "2\n",
      "0\n",
      "1\n",
      "5\n"
     ]
    }
   ],
   "source": [
    "lcg_random(seed, number_of_values) # Produces same output as above"
   ]
  },
  {
   "cell_type": "markdown",
   "metadata": {},
   "source": [
    "or supplied using keyword arguments like this:"
   ]
  },
  {
   "cell_type": "code",
   "execution_count": 6,
   "metadata": {},
   "outputs": [
    {
     "name": "stdout",
     "output_type": "stream",
     "text": [
      "2\n",
      "1\n",
      "6\n",
      "8\n",
      "7\n",
      "3\n",
      "5\n",
      "4\n",
      "0\n",
      "2\n"
     ]
    }
   ],
   "source": [
    "lcg_random(seed=seed, number_of_values=10, m=9, a=4, c=2)"
   ]
  },
  {
   "cell_type": "markdown",
   "metadata": {},
   "source": [
    "---"
   ]
  },
  {
   "cell_type": "markdown",
   "metadata": {},
   "source": [
    "### Questions\n",
    "\n",
    "- Try running `lcg_random` with a different seed number.\n",
    "  - Can you notice any patterns in the numbers produced?"
   ]
  },
  {
   "cell_type": "markdown",
   "metadata": {},
   "source": [
    "Use these input values for `lcg_random`:\n",
    "\n",
    "    seed = 1\n",
    "    m = 9\n",
    "    a = 2\n",
    "    c = 0\n",
    "\n",
    "- Does the pattern change? If so, how does it change?"
   ]
  },
  {
   "cell_type": "markdown",
   "metadata": {},
   "source": [
    "LCGs have been commonly used in the past in lots of different languages and libraries (e.g. see [LCG wikipedia page](https://en.wikipedia.org/wiki/Linear_congruential_generator)). When this is used in earnest the values for $m$, $a$ and $c$ are set to be very large, normally prime numbers. This is one example of real numbers which may be used:\n",
    "\n",
    "    m = 2**31\n",
    "    a = 1103515245\n",
    "    c = 12345\n",
    "\n",
    "- Try using these numbers? Do you see a pattern now? Increase the number of iterations if you want."
   ]
  },
  {
   "cell_type": "markdown",
   "metadata": {},
   "source": [
    "### Discussion\n",
    "\n",
    " - What are the properties of this Random Number Generator? How *good* is it?\n",
    " - What is the seed doing?\n",
    " - How is using a random number generator different from real life experiments?"
   ]
  },
  {
   "cell_type": "markdown",
   "metadata": {},
   "source": [
    "---"
   ]
  },
  {
   "cell_type": "markdown",
   "metadata": {},
   "source": [
    "### Random vs Pseudorandom\n",
    "\n",
    "In fact, for any inputs you could include in this pseudorandom number generator it will always repeat eventually due to its iterative nature, it just may take many millions of iterations to do so. This is why it is called a *pseudo* random number generator: because the output is not truly random. True random number generators can be created by using some input from an unpredictable external source (mouse movement, CPU temperature fluctuations or events such as radioactive decay, cosmic rays etc.) but this loses one of the great benefits of pseudo random number generators: repeatability.\n",
    "\n",
    "This is a simple example and, in most circumstances, the level of randomness afforded by a *good* pseudorandom number generator, with many iterations between repeating patterns, is sufficient for any model we may want to create. Through use of a known seed number we can re-run models which include randomness and, unlike real-life experiments, still be able to reproduce the same results. However, if you ever did need true randomness then this should be factored into the choice of tool being used."
   ]
  }
 ],
 "metadata": {
  "kernelspec": {
   "display_name": "Python 3",
   "language": "python",
   "name": "python3"
  },
  "language_info": {
   "codemirror_mode": {
    "name": "ipython",
    "version": 3
   },
   "file_extension": ".py",
   "mimetype": "text/x-python",
   "name": "python",
   "nbconvert_exporter": "python",
   "pygments_lexer": "ipython3",
   "version": "3.8.3"
  }
 },
 "nbformat": 4,
 "nbformat_minor": 4
}
