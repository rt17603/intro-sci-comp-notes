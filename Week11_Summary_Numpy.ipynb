{
 "cells": [
  {
   "cell_type": "markdown",
   "metadata": {},
   "source": [
    "# Summary - `numpy`"
   ]
  },
  {
   "cell_type": "markdown",
   "metadata": {},
   "source": [
    "Summary of topics covered in Weeks 7-9"
   ]
  },
  {
   "cell_type": "markdown",
   "metadata": {},
   "source": [
    "## Numpy module"
   ]
  },
  {
   "cell_type": "code",
   "execution_count": 1,
   "metadata": {},
   "outputs": [],
   "source": [
    "# The numpy module must be imported to be used. The shorthand `np` is usually used for this.\n",
    "import numpy as np"
   ]
  },
  {
   "cell_type": "markdown",
   "metadata": {},
   "source": [
    "### Numpy arrays"
   ]
  },
  {
   "cell_type": "markdown",
   "metadata": {},
   "source": [
    "[Week 7: Numpy Arrays](../Week7/Week7_VideoRecap1_NumpyArrays.ipynb); [Week 7: Questions](../Week7/Week7_10_Questions.ipynb); [Week 9: Multi-dimensional arrays and indexing](../Week9/Week9_VideoRecap2_MultiDimensionalArrays.ipynb)"
   ]
  },
  {
   "cell_type": "markdown",
   "metadata": {},
   "source": [
    "**Array creation**\n",
    "\n",
    "Documentation: [Array creation routines](https://numpy.org/doc/stable/reference/routines.array-creation.html)"
   ]
  },
  {
   "cell_type": "code",
   "execution_count": 2,
   "metadata": {},
   "outputs": [],
   "source": [
    "# Numpy array objects can be created in lots of different ways to contain different values\n",
    "# One way to create an array is directly from a list\n",
    "arr1 = np.array([1, 2, 3])"
   ]
  },
  {
   "cell_type": "code",
   "execution_count": 3,
   "metadata": {},
   "outputs": [
    {
     "name": "stdout",
     "output_type": "stream",
     "text": [
      "[1.  1.3 1.6 1.9 2.2 2.5 2.8 3.1 3.4 3.7 4.  4.3 4.6 4.9 5.2 5.5 5.8 6.1\n",
      " 6.4 6.7 7.  7.3 7.6 7.9 8.2 8.5 8.8 9.1 9.4 9.7]\n",
      "30\n"
     ]
    }
   ],
   "source": [
    "# Another way is to create a range of numbers\n",
    "lower = 1\n",
    "upper = 10\n",
    "step = 0.3\n",
    "arr2 = np.arange(lower, upper, step)\n",
    "print(arr2)\n",
    "print(len(arr2))"
   ]
  },
  {
   "cell_type": "code",
   "execution_count": 4,
   "metadata": {},
   "outputs": [
    {
     "name": "stdout",
     "output_type": "stream",
     "text": [
      "[1. 1. 1. 1. 1. 1. 1. 1. 1. 1. 1. 1. 1. 1. 1. 1. 1. 1. 1. 1. 1. 1. 1. 1.\n",
      " 1. 1. 1. 1. 1. 1.]\n"
     ]
    }
   ],
   "source": [
    "# You can also create arrays of a given size (defined as an integer)\n",
    "size = 30\n",
    "arr3 = np.ones(size)\n",
    "print(arr3)"
   ]
  },
  {
   "cell_type": "code",
   "execution_count": 5,
   "metadata": {},
   "outputs": [
    {
     "name": "stdout",
     "output_type": "stream",
     "text": [
      "[[0. 0. 0.]\n",
      " [0. 0. 0.]]\n"
     ]
    }
   ],
   "source": [
    "# or shape (defined as a tuple of integers)\n",
    "shape = (2, 3)\n",
    "arr4 = np.zeros(shape)\n",
    "print(arr4)"
   ]
  },
  {
   "cell_type": "code",
   "execution_count": 6,
   "metadata": {},
   "outputs": [
    {
     "name": "stdout",
     "output_type": "stream",
     "text": [
      "float64\n",
      "(2, 3)\n"
     ]
    }
   ],
   "source": [
    "# Arrays have properties of dtype (what type of values contained) and shape\n",
    "print(arr2.dtype)\n",
    "print(arr4.shape)"
   ]
  },
  {
   "cell_type": "markdown",
   "metadata": {},
   "source": [
    "**Indexing**\n",
    "\n",
    "Documentation: [indexing in numpy](https://numpy.org/doc/stable/reference/arrays.indexing.html)"
   ]
  },
  {
   "cell_type": "code",
   "execution_count": 7,
   "metadata": {},
   "outputs": [
    {
     "name": "stdout",
     "output_type": "stream",
     "text": [
      "[2 3]\n"
     ]
    }
   ],
   "source": [
    "# Arrays can be indexed in the same way as lists, using slicing\n",
    "print(arr1[1:])"
   ]
  },
  {
   "cell_type": "code",
   "execution_count": 8,
   "metadata": {},
   "outputs": [
    {
     "name": "stdout",
     "output_type": "stream",
     "text": [
      "0.0\n"
     ]
    }
   ],
   "source": [
    "# Arrays can also be indexed based on their multi-dimensionality (using a comma)\n",
    "print(arr4[1, 0])"
   ]
  },
  {
   "cell_type": "code",
   "execution_count": 9,
   "metadata": {},
   "outputs": [
    {
     "name": "stdout",
     "output_type": "stream",
     "text": [
      "Length of original array: 30\n",
      "[5.2 5.5 5.8 6.1 6.4 6.7 7.  7.3 7.6 7.9 8.2 8.5 8.8 9.1 9.4 9.7]\n",
      "Length of new, filtered array: 16\n"
     ]
    }
   ],
   "source": [
    "# Arrays can be filtered (indexed) using a condition - Boolean array indexing\n",
    "arr_gt_5 = arr2[arr2 > 5]\n",
    "print(f\"Length of original array: {len(arr2)}\")\n",
    "print(arr_gt_5)\n",
    "print(f\"Length of new, filtered array: {len(arr_gt_5)}\")"
   ]
  },
  {
   "cell_type": "markdown",
   "metadata": {},
   "source": [
    "**Operators and combining arrays**"
   ]
  },
  {
   "cell_type": "code",
   "execution_count": 10,
   "metadata": {},
   "outputs": [
    {
     "name": "stdout",
     "output_type": "stream",
     "text": [
      "[2 4 6]\n"
     ]
    }
   ],
   "source": [
    "# Arrays can also be used directly with operators which will be applied for each element\n",
    "arr1_multiply = arr1*2\n",
    "print(arr1_multiply)"
   ]
  },
  {
   "cell_type": "code",
   "execution_count": 11,
   "metadata": {},
   "outputs": [
    {
     "name": "stdout",
     "output_type": "stream",
     "text": [
      "30 30\n",
      "[ 2.   2.3  2.6  2.9  3.2  3.5  3.8  4.1  4.4  4.7  5.   5.3  5.6  5.9\n",
      "  6.2  6.5  6.8  7.1  7.4  7.7  8.   8.3  8.6  8.9  9.2  9.5  9.8 10.1\n",
      " 10.4 10.7]\n"
     ]
    }
   ],
   "source": [
    "# Arrays can also be combined with each other if they have the right size / shape\n",
    "print(len(arr2),len(arr3))\n",
    "add = arr2 + arr3\n",
    "print(add)"
   ]
  },
  {
   "cell_type": "markdown",
   "metadata": {},
   "source": [
    "### Numpy functions"
   ]
  },
  {
   "cell_type": "markdown",
   "metadata": {},
   "source": [
    "[Week 7: Numpy functions](../Week7/Week7_VideoRecap2_NumpyFunctions.ipynb); [Week 7: Questions](../Week7/Week7_10_Questions.ipynb); [Week 7: Worked Example](../Week7/Week7_11_WorkedExample_BouncingBall.ipynb)"
   ]
  },
  {
   "cell_type": "markdown",
   "metadata": {},
   "source": [
    "Documentation: [numpy statistical functions](https://numpy.org/doc/stable/reference/routines.statistics.html)"
   ]
  },
  {
   "cell_type": "code",
   "execution_count": 12,
   "metadata": {},
   "outputs": [
    {
     "name": "stdout",
     "output_type": "stream",
     "text": [
      "2.0\n"
     ]
    }
   ],
   "source": [
    "## The numpy module contains lots of functions which can be used directly on an entire array\n",
    "# Statistical functions\n",
    "mean = np.mean(arr1)\n",
    "print(mean)"
   ]
  },
  {
   "cell_type": "markdown",
   "metadata": {},
   "source": [
    "Documentation: [numpy mathematical functions](https://numpy.org/doc/stable/reference/routines.math.html)"
   ]
  },
  {
   "cell_type": "code",
   "execution_count": 13,
   "metadata": {},
   "outputs": [
    {
     "name": "stdout",
     "output_type": "stream",
     "text": [
      "[ 1.55740772 -2.18503986 -0.14254654]\n",
      "3\n"
     ]
    }
   ],
   "source": [
    "# Mathematical functions e.g. trigonometric\n",
    "tan_x = np.tan(arr1)\n",
    "print(tan_x)\n",
    "print(len(tan_x))"
   ]
  },
  {
   "cell_type": "code",
   "execution_count": 14,
   "metadata": {},
   "outputs": [
    {
     "name": "stdout",
     "output_type": "stream",
     "text": [
      "[0.         0.30103    0.47712125]\n",
      "3\n"
     ]
    }
   ],
   "source": [
    "# Mathematical functions e.g. exponents and logarithms\n",
    "log_x = np.log10(arr1)\n",
    "print(log_x)\n",
    "print(len(log_x))"
   ]
  },
  {
   "cell_type": "markdown",
   "metadata": {},
   "source": [
    "### Numpy random submodule"
   ]
  },
  {
   "cell_type": "markdown",
   "metadata": {},
   "source": [
    "[Week 8: random submodule](../Week8/Week8_13_Numpy_Random.ipynb); [Week 8: worked example](../Week8/Week8_14_WorkedExample_RadioactiveDecay.ipynb); [Week 9: Random sampling](../Week9/Week9_VideoRecap1_RandomSampling.ipynb)"
   ]
  },
  {
   "cell_type": "code",
   "execution_count": 15,
   "metadata": {},
   "outputs": [],
   "source": [
    "## The numpy function has a submodule called random which can be used\n",
    "# to generate random numbers\n",
    "# This needs to be imported\n",
    "from numpy import random"
   ]
  },
  {
   "cell_type": "markdown",
   "metadata": {},
   "source": [
    "**Random number generator**\n",
    "\n",
    "Documentation: [numpy default random number generator](https://numpy.org/doc/stable/reference/random/generator.html#numpy.random.default_rng)"
   ]
  },
  {
   "cell_type": "code",
   "execution_count": 16,
   "metadata": {},
   "outputs": [],
   "source": [
    "# First create the random number generator itself - initialisation value (seed) can be specified.\n",
    "seed = 10    # This can be set to any number, is just to allow repeatable results.\n",
    "rng = random.default_rng(seed)"
   ]
  },
  {
   "cell_type": "markdown",
   "metadata": {},
   "source": [
    "**Generating random numbers**\n",
    "\n",
    "Documentation: [using random() function](https://numpy.org/doc/stable/reference/random/generated/numpy.random.Generator.random.html)"
   ]
  },
  {
   "cell_type": "code",
   "execution_count": 17,
   "metadata": {},
   "outputs": [
    {
     "data": {
      "text/plain": [
       "0.9560017096289753"
      ]
     },
     "execution_count": 17,
     "metadata": {},
     "output_type": "execute_result"
    }
   ],
   "source": [
    "# Random numbers can be created using the random number generator between 0.0 and 1.0\n",
    "rng.random()"
   ]
  },
  {
   "cell_type": "code",
   "execution_count": 18,
   "metadata": {},
   "outputs": [
    {
     "name": "stdout",
     "output_type": "stream",
     "text": [
      "[0.20768181 0.82844489 0.14928212]\n"
     ]
    }
   ],
   "source": [
    "# Multiple numbers can be created at once in whatever size (or shape) you want\n",
    "size = 3\n",
    "print(rng.random(size))"
   ]
  },
  {
   "cell_type": "code",
   "execution_count": 19,
   "metadata": {},
   "outputs": [
    {
     "name": "stdout",
     "output_type": "stream",
     "text": [
      "[0.51280462 0.1359196  0.68903648]\n",
      "[6.58963232 3.95143723 7.82325536]\n"
     ]
    }
   ],
   "source": [
    "# These random numbers can be used to cover other ranges as well\n",
    "start = 3\n",
    "end = 10\n",
    "numbers_0_1 = rng.random(size)\n",
    "numbers_start_end = start + numbers_0_1 * (end-start)\n",
    "print(numbers_0_1)\n",
    "print(numbers_start_end)"
   ]
  },
  {
   "cell_type": "markdown",
   "metadata": {},
   "source": [
    "Documentation: [using integers() function](https://numpy.org/doc/stable/reference/random/generated/numpy.random.Generator.integers.html#numpy.random.Generator.integers)"
   ]
  },
  {
   "cell_type": "code",
   "execution_count": 20,
   "metadata": {},
   "outputs": [
    {
     "data": {
      "text/plain": [
       "array([5, 8, 3], dtype=int64)"
      ]
     },
     "execution_count": 20,
     "metadata": {},
     "output_type": "execute_result"
    }
   ],
   "source": [
    "# Other functions can also be used to select random numbers such as integers\n",
    "rng.integers(start,end,size=size)"
   ]
  },
  {
   "cell_type": "markdown",
   "metadata": {},
   "source": [
    "Documentation: [using choice() function](https://numpy.org/doc/stable/reference/random/generated/numpy.random.Generator.choice.html)"
   ]
  },
  {
   "cell_type": "code",
   "execution_count": 21,
   "metadata": {},
   "outputs": [
    {
     "data": {
      "text/plain": [
       "array([2, 2, 3])"
      ]
     },
     "execution_count": 21,
     "metadata": {},
     "output_type": "execute_result"
    }
   ],
   "source": [
    "# Or by making a choice from a pre-existing list of options\n",
    "rng.choice(arr1,size=size)"
   ]
  }
 ],
 "metadata": {
  "kernelspec": {
   "display_name": "Python 3",
   "language": "python",
   "name": "python3"
  },
  "language_info": {
   "codemirror_mode": {
    "name": "ipython",
    "version": 3
   },
   "file_extension": ".py",
   "mimetype": "text/x-python",
   "name": "python",
   "nbconvert_exporter": "python",
   "pygments_lexer": "ipython3",
   "version": "3.8.3"
  }
 },
 "nbformat": 4,
 "nbformat_minor": 4
}
