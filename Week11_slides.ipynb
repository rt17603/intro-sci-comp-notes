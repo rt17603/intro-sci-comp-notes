{
 "cells": [
  {
   "cell_type": "markdown",
   "metadata": {
    "slideshow": {
     "slide_type": "slide"
    }
   },
   "source": [
    "# Introductory Scientific Computing\n",
    "\n",
    "## Week 11: Practice"
   ]
  },
  {
   "cell_type": "markdown",
   "metadata": {
    "slideshow": {
     "slide_type": "slide"
    }
   },
   "source": [
    "## Previous session (Week 10)\n",
    "\n",
    "In the previous workshop we:\n",
    " - Formalised some ideas around debugging and how to intepret error messages\n",
    " - Worked on using these error messages and other techniques to help us debug and fix code"
   ]
  },
  {
   "cell_type": "markdown",
   "metadata": {
    "slideshow": {
     "slide_type": "slide"
    }
   },
   "source": [
    "## Today's session (Week 11)\n",
    "\n",
    "1. Challenge: in groups solve as many [Code Wars](www.codewars.com) tasks as you can in **15 minutes**.\n",
    " - [Week11_19_Functions](Week11_19_Functions.ipynb)\n",
    " - [Week11_20_CodeWars](Week11_20_CodeWars.ipynb)\n",
    "\n",
    "2. Use matplotlib to decorate a plot\n",
    " - [Week11_21_Matplotlib_Decoration](Week11_21_Matplotlib_Decoration.ipynb)"
   ]
  },
  {
   "cell_type": "markdown",
   "metadata": {
    "slideshow": {
     "slide_type": "slide"
    }
   },
   "source": [
    "# Summary"
   ]
  },
  {
   "cell_type": "markdown",
   "metadata": {
    "slideshow": {
     "slide_type": "slide"
    }
   },
   "source": [
    "## Weeks 1-6\n",
    "\n",
    "Python essentials\n",
    " - creating and combining variables\n",
    " - data structures and indexing\n",
    " - looping and branching\n",
    " - See [Week6_Summary_PythonEssentials](../Week6/Week6_Summary_PythonEssentials.ipynb) for a reminder"
   ]
  },
  {
   "cell_type": "markdown",
   "metadata": {
    "slideshow": {
     "slide_type": "slide"
    }
   },
   "source": [
    "## Weeks 7-9\n",
    "\n",
    "Features of the numerical Python (`numpy`) module\n",
    " - `numpy` arrays and indexing\n",
    " - `numpy` functionality (mathematical e.g. `np.cos()`, statistical e.g. `np.mean()`)\n",
    " - `numpy` random for random number generation\n",
    " - See [Week11_Summary_Numpy](Week11_Summary_Numpy.ipynb) for a reminder"
   ]
  },
  {
   "cell_type": "markdown",
   "metadata": {
    "slideshow": {
     "slide_type": "fragment"
    }
   },
   "source": [
    "... And have shown other functionality including functions and plotting ..."
   ]
  },
  {
   "cell_type": "markdown",
   "metadata": {
    "slideshow": {
     "slide_type": "slide"
    }
   },
   "source": [
    "### Functions\n",
    "\n",
    "Functions are a way to package up a piece of code so that it can be reused.\n",
    "\n",
    "Making functions is a good way to make code more succinct, reliable and to avoid repeating code unnecessarily.\n",
    "\n",
    " - [Week11_19_Functions](Week11_19_Functions.ipynb)"
   ]
  },
  {
   "cell_type": "markdown",
   "metadata": {
    "slideshow": {
     "slide_type": "slide"
    }
   },
   "source": [
    "# Code Wars - challenge\n",
    "\n",
    "This is a free website that allows you to practice and improve your coding. Sign up using: https://www.codewars.com/join.\n",
    "\n",
    "In groups, you will be sent to breakout rooms and should complete as many challenges as possible, adding up your group score at the end.\n",
    "\n",
    " - [Week11_20_CodeWars](Week11_20_CodeWars.ipynb)\n",
    " - Strict **15 minutes** starts as soon as you get into your breakout rooms\n",
    " - Add your final score for your group to the [Google Sheet](https://docs.google.com/spreadsheets/d/1uqHFCRuSg2LPZRlU5hPpky0Xr6qYzf1UZ55mMik1CCI/edit?usp=sharing) document\n",
    "\n",
    "*Pick a team name if you like*\n"
   ]
  },
  {
   "cell_type": "markdown",
   "metadata": {
    "slideshow": {
     "slide_type": "skip"
    }
   },
   "source": [
    "*Demonstration of using Code Wars to complete challenges*"
   ]
  },
  {
   "cell_type": "markdown",
   "metadata": {
    "slideshow": {
     "slide_type": "slide"
    }
   },
   "source": [
    "### Reflection\n",
    "\n",
    "Consider any of the code we have written so far that **could have used functions**:\n",
    "\n",
    " - Post any examples you can think of in the chat - from previous worksheets you have completed or from assessments"
   ]
  },
  {
   "cell_type": "markdown",
   "metadata": {
    "slideshow": {
     "slide_type": "slide"
    }
   },
   "source": [
    "## Apply some decoration\n",
    "\n",
    "In new groups, work together to decorate either a tree or a snowman picture using matplotlib.\n",
    "\n",
    " - [Week11_21_Matplotlib_Decoration](Week11_21_Matplotlib_Decoration.ipynb)"
   ]
  },
  {
   "cell_type": "markdown",
   "metadata": {
    "slideshow": {
     "slide_type": "slide"
    }
   },
   "source": [
    "# Programming project - ongoing assessment\n",
    "\n",
    "Your second programming project should be completed and submitted by **this Thursday (17th December) at 10pm**.\n",
    "\n",
    " - Details are available on the [DLM course page](https://dlm.chm.bris.ac.uk/dlm2020-21/course/view.php?id=690#section-1) ([direct link](https://uob.sharepoint.com/:b:/t/grp-chem-curriculum/ERPWqMyWTY9BpAKUlZMJJUUBeZK80ihLawrI9yGNCNaD1A)).\n",
    " - This can be completed using Noteable and downloaded or can be completed using a different tool, if preferred.\n",
    " - Submit using [Marks, Attendance and Feedback](https://dlm.chm.bris.ac.uk/lab/)\n",
    "    - Use \"Introductory Scientific Computing Assessment\" submission point for your chosen option"
   ]
  },
  {
   "cell_type": "markdown",
   "metadata": {
    "slideshow": {
     "slide_type": "slide"
    }
   },
   "source": [
    "### No workshop in consolidation week (Week 12)\n",
    "\n",
    "There will be no Introductory Scientific Computing workshop (or tutorials) on the week of 11th-15th January (Week 12).\n",
    "\n",
    "Workshops will resume at the start of Teaching Block 2, on the week of 1st - 5th February (Week 13)."
   ]
  },
  {
   "cell_type": "markdown",
   "metadata": {
    "slideshow": {
     "slide_type": "slide"
    }
   },
   "source": [
    "### Games to keep your brain moving\n",
    "\n",
    "<img src=\"images/SpaceChem.png\" alt=\"Game - SpaceChem\" style=\"display:block;margin-left:auto;margin-right:auto;width:15%\"/>\n",
    "\n",
    " - [SpaceChem](http://www.zachtronics.com/spacechem/) ([Steam](https://store.steampowered.com/app/92800/SpaceChem/)) and other games from [Zachtronics](http://www.zachtronics.com/)\n",
    "\n",
    "<img src=\"images/HumanResourceMachine.png\" alt=\"Game - Human Resource Machine\" style=\"display:block;margin-left:auto;margin-right:auto;width:15%\"/>\n",
    "\n",
    " - [Human Resource Machine](https://tomorrowcorporation.com/humanresourcemachine)\n",
    "\n",
    "<img src=\"images/Factorio.png\" alt=\"Game - Factorio\" style=\"display:block;margin-left:auto;margin-right:auto;width:15%\"/>\n",
    "\n",
    " - [Shapes.io](https://shapes.io/) (free online version available) or [Factorio](https://factorio.com/)"
   ]
  },
  {
   "cell_type": "markdown",
   "metadata": {
    "slideshow": {
     "slide_type": "slide"
    }
   },
   "source": [
    "# Have a good Christmas break!"
   ]
  }
 ],
 "metadata": {
  "kernelspec": {
   "display_name": "Python 3",
   "language": "python",
   "name": "python3"
  },
  "language_info": {
   "codemirror_mode": {
    "name": "ipython",
    "version": 3
   },
   "file_extension": ".py",
   "mimetype": "text/x-python",
   "name": "python",
   "nbconvert_exporter": "python",
   "pygments_lexer": "ipython3",
   "version": "3.8.3"
  }
 },
 "nbformat": 4,
 "nbformat_minor": 4
}
