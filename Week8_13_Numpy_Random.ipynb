{
 "cells": [
  {
   "cell_type": "markdown",
   "metadata": {},
   "source": [
    "# Random number generation using `numpy`"
   ]
  },
  {
   "cell_type": "markdown",
   "metadata": {},
   "source": [
    "The `numpy` module contains a sub-module called `random` which offers us one way to generate random numbers. By default, this uses a [64-bit Permuted Congruential Generator](https://numpy.org/doc/stable/reference/random/bit_generators/pcg64.html#numpy.random.PCG64) (PCG64), rather than the LCG you looked at previously, which is part of a new class of improved pseudo random number generators.\n",
    "\n",
    "One way we can access the `random` sub-module is using the syntax below:"
   ]
  },
  {
   "cell_type": "code",
   "execution_count": 1,
   "metadata": {},
   "outputs": [],
   "source": [
    "from numpy import random"
   ]
  },
  {
   "cell_type": "markdown",
   "metadata": {},
   "source": [
    "This is another way to write an `import` statement where we extract the sub-module directly `from` numpy for use within the code. We can access the functionality within `random` in the same way as we accessed functionality within `numpy` (but this time we use the keyword `random` rather than `np` followed by the `.`).\n",
    "\n",
    "Considering the concept of a \"seed\" that we introduced above, this is how we define a seed using the `random` sub-module and use it to start generating random numbers:"
   ]
  },
  {
   "cell_type": "code",
   "execution_count": 2,
   "metadata": {},
   "outputs": [
    {
     "name": "stdout",
     "output_type": "stream",
     "text": [
      "0.9560017096289753\n",
      "0.20768181007914688\n",
      "0.8284448852745308\n"
     ]
    }
   ],
   "source": [
    "seed=10\n",
    "rng = random.default_rng(seed) # Create Random number generator with default algorithm\n",
    "\n",
    "print(rng.random())\n",
    "print(rng.random())\n",
    "print(rng.random())"
   ]
  },
  {
   "cell_type": "markdown",
   "metadata": {},
   "source": [
    "What we have done is create a random number generator, `rng`. We can call functions on this object to generate random numbers when we need them. You can see that each time we call `rng.random()` a different number is produced.\n",
    "\n",
    "Try re-running this cell above. What do you notice? Re-running this cell produces the same set of numbers every time the cell is run. That is because we are re-creating our random number generator, `rng`, and explicitly setting the seed at the start of this cell.\n",
    "\n",
    "If we don't do that, we would see the following:"
   ]
  },
  {
   "cell_type": "code",
   "execution_count": 3,
   "metadata": {},
   "outputs": [
    {
     "name": "stdout",
     "output_type": "stream",
     "text": [
      "0.14928212308202027\n",
      "0.5128046164365648\n",
      "0.13591960402050662\n"
     ]
    }
   ],
   "source": [
    "print(rng.random())\n",
    "print(rng.random())\n",
    "print(rng.random())"
   ]
  },
  {
   "cell_type": "markdown",
   "metadata": {},
   "source": [
    "If this cell is re-run then this will keep generating different numbers as it continues to run along the random number generator sequence defined by the underlying algorithm."
   ]
  },
  {
   "cell_type": "markdown",
   "metadata": {},
   "source": [
    "The [`random()` function](https://numpy.org/doc/stable/reference/random/generated/numpy.random.Generator.random.html#numpy.random.Generator.random) (method) we have used above returns random floats between 0.0 and up to, but not including, 1.0. This is done in a uniform manner where, in principle, all numbers should be equally likely."
   ]
  },
  {
   "cell_type": "markdown",
   "metadata": {},
   "source": [
    "---"
   ]
  },
  {
   "cell_type": "markdown",
   "metadata": {},
   "source": [
    "### Exercise A\n",
    "\n",
    "Use this Python documentation page for the `random()` function for reference: https://numpy.org/doc/stable/reference/random/generated/numpy.random.Generator.random.html\n",
    "\n",
    " 1. How could we use the `random()` function, which randomly samples from 0.0 - 1.0, to produce values in the range:\n",
    "   - 0.0 - 3.0?\n",
    "   - 1.0 - 5.0?\n",
    " 2. How could you use the `random()` function to generate multiple random numbers at once:\n",
    "   - 6 numbers?\n",
    "   - on a 3 x 2 grid?"
   ]
  },
  {
   "cell_type": "code",
   "execution_count": 4,
   "metadata": {},
   "outputs": [],
   "source": [
    "## CAN ADD CODE HERE"
   ]
  },
  {
   "cell_type": "code",
   "execution_count": 5,
   "metadata": {},
   "outputs": [],
   "source": [
    "## CAN ADD CODE HERE"
   ]
  },
  {
   "cell_type": "code",
   "execution_count": 6,
   "metadata": {},
   "outputs": [],
   "source": [
    "## CAN ADD CODE HERE"
   ]
  },
  {
   "cell_type": "code",
   "execution_count": 7,
   "metadata": {},
   "outputs": [],
   "source": [
    "## CAN ADD CODE HERE"
   ]
  },
  {
   "cell_type": "markdown",
   "metadata": {},
   "source": [
    "---"
   ]
  },
  {
   "cell_type": "markdown",
   "metadata": {},
   "source": [
    "### Other ways to generate random numbers"
   ]
  },
  {
   "cell_type": "markdown",
   "metadata": {},
   "source": [
    "As shown above, we can use the `random()` function to generate different ranges and multiple random numbers at once using an underlying random number generator (`rng`). \n",
    "\n",
    "We can also use the same random number generator (`rng`) to derive random numbers in different ways. If we wanted to explicitly choose an integer from a range we can use the [`integers()` function](https://numpy.org/doc/stable/reference/random/generated/numpy.random.Generator.integers.html#numpy.random.Generator.integers) (method). This returns random integers from `low` (included) to `high` (not included) by default."
   ]
  },
  {
   "cell_type": "code",
   "execution_count": 8,
   "metadata": {},
   "outputs": [
    {
     "name": "stdout",
     "output_type": "stream",
     "text": [
      "5\n",
      "7\n",
      "5\n"
     ]
    }
   ],
   "source": [
    "low = 1\n",
    "high = 11\n",
    "# From low (inclusive) to high (exclusive)\n",
    "print(rng.integers(low,high))\n",
    "\n",
    "# From 0 (inclusive) to high (exclusive)\n",
    "print(rng.integers(high))\n",
    "\n",
    "# From 0 (inclusive) to high (inclusive) because endpoint is set to True\n",
    "print(rng.integers(low,high,endpoint=True))"
   ]
  },
  {
   "cell_type": "markdown",
   "metadata": {},
   "source": [
    "We can also make a choice from a pre-created range using the [`choice()` function](https://numpy.org/doc/stable/reference/random/generated/numpy.random.Generator.choice.html) (method):"
   ]
  },
  {
   "cell_type": "code",
   "execution_count": 9,
   "metadata": {},
   "outputs": [
    {
     "name": "stdout",
     "output_type": "stream",
     "text": [
      "down\n",
      "left\n",
      "right\n"
     ]
    }
   ],
   "source": [
    "list1 = [\"left\",\"right\",\"up\",\"down\"]\n",
    "\n",
    "print(rng.choice(list1))\n",
    "print(rng.choice(list1))\n",
    "print(rng.choice(list1))"
   ]
  },
  {
   "cell_type": "markdown",
   "metadata": {},
   "source": [
    "One thing to note is that all of these options select random numbers from the same underlying distribution - a *uniform* one. This means that all choices are equally weighted whether its selecting from floats in a range or selecting from choices in a list. This does not mean, however, that every choice will appear the same number of times but that there is an even chance for any option to be made. This can be demonstrated by looking at the distribution of randomly generated numbers with the `random()` function (method) as a histogram using the `hist` function from `matplotlib`:"
   ]
  },
  {
   "cell_type": "code",
   "execution_count": 10,
   "metadata": {},
   "outputs": [],
   "source": [
    "from numpy import random\n",
    "\n",
    "rng = random.default_rng() # Create Random number generator with default algorithm\n",
    "\n",
    "number_of_points = 10000\n",
    "mean = 0.5\n",
    "std = 0.2\n",
    "uniform = rng.random(size=number_of_points)\n",
    "normal = rng.normal(mean, std, size=number_of_points)"
   ]
  },
  {
   "cell_type": "code",
   "execution_count": 11,
   "metadata": {},
   "outputs": [
    {
     "data": {
      "text/plain": [
       "<matplotlib.legend.Legend at 0x1b3a8ec2100>"
      ]
     },
     "execution_count": 11,
     "metadata": {},
     "output_type": "execute_result"
    },
    {
     "data": {
      "image/png": "[encoded data removed]",
      "text/plain": [
       "<Figure size 432x288 with 1 Axes>"
      ]
     },
     "metadata": {
      "needs_background": "light"
     },
     "output_type": "display_data"
    }
   ],
   "source": [
    "import matplotlib.pyplot as plt\n",
    "\n",
    "fig,ax = plt.subplots()\n",
    "\n",
    "ax.hist(uniform, alpha=0.5, label=\"Random uniform\")\n",
    "ax.set_ylim(0,1200)\n",
    "ax.legend()"
   ]
  },
  {
   "cell_type": "markdown",
   "metadata": {},
   "source": [
    "Even for 10,000 points, this distribution is not completely flat and some numbers are chosen a little more often that others. But overall, you can see there is no strong bias from one number to another."
   ]
  },
  {
   "cell_type": "markdown",
   "metadata": {},
   "source": [
    "---"
   ]
  },
  {
   "cell_type": "markdown",
   "metadata": {},
   "source": [
    "### Exercise B\n",
    "\n",
    "1. How would you generate a random selection of integers:\n",
    "   - from 10 - 100\n",
    "   - generate 10 numbers, from 10 - 100\n",
    "2. Can you make 5 random choices from `list1` (defined above) in one line?\n",
    "3. Could you use the `integers()` function (rather than `choice()`) to make a random selection from a `list1`?"
   ]
  },
  {
   "cell_type": "code",
   "execution_count": 12,
   "metadata": {},
   "outputs": [],
   "source": [
    "## CAN ADD CODE HERE"
   ]
  },
  {
   "cell_type": "code",
   "execution_count": 13,
   "metadata": {},
   "outputs": [],
   "source": [
    "## CAN ADD CODE HERE"
   ]
  },
  {
   "cell_type": "code",
   "execution_count": 14,
   "metadata": {},
   "outputs": [],
   "source": [
    "## CAN ADD CODE HERE"
   ]
  },
  {
   "cell_type": "code",
   "execution_count": 15,
   "metadata": {},
   "outputs": [],
   "source": [
    "## CAN ADD CODE HERE"
   ]
  },
  {
   "cell_type": "markdown",
   "metadata": {},
   "source": [
    "---"
   ]
  },
  {
   "cell_type": "markdown",
   "metadata": {},
   "source": [
    "### Extra: Other distributions\n",
    "\n",
    "As well as using our random number generator (`rng`) to produce values within a uniform distribution, there are also other underlying distributions that can be used.\n",
    "\n",
    "Full list of distributions available in `numpy.random`: https://numpy.org/doc/stable/reference/random/generator.html#distributions"
   ]
  },
  {
   "cell_type": "code",
   "execution_count": 16,
   "metadata": {},
   "outputs": [],
   "source": [
    "from numpy import random"
   ]
  },
  {
   "cell_type": "code",
   "execution_count": 17,
   "metadata": {},
   "outputs": [],
   "source": [
    "rng = random.default_rng() # Create Random number generator with default algorithm\n",
    "\n",
    "number_of_points = 10000\n",
    "mean = 0.5\n",
    "std = 0.2\n",
    "uniform = rng.random(size = number_of_points) # Generate random numbers from a uniform distribution\n",
    "normal = rng.normal(mean, std, size = number_of_points) # Generate random numbers from a normal (Gaussian) distribution"
   ]
  },
  {
   "cell_type": "markdown",
   "metadata": {},
   "source": [
    "Here we have created two sets of random numbers, one using the `random()` function and the other using the `normal()` function. If we look at the first 10 entries for both outputs we can see they are both just arrays which contain float values:"
   ]
  },
  {
   "cell_type": "code",
   "execution_count": 18,
   "metadata": {},
   "outputs": [
    {
     "name": "stdout",
     "output_type": "stream",
     "text": [
      "[0.87706318 0.8650918  0.1489432  0.15963612 0.91030455 0.38823493\n",
      " 0.40912808 0.73992613 0.87552279 0.72349483]\n",
      "[0.25533285 0.70584539 0.29520917 0.52672493 0.30053038 0.31160242\n",
      " 0.74923152 0.81436632 0.56547168 0.53257519]\n"
     ]
    }
   ],
   "source": [
    "print(uniform[0:10])\n",
    "print(normal[0:10])"
   ]
  },
  {
   "cell_type": "markdown",
   "metadata": {},
   "source": [
    "But if we plot these distributions as a histogram, using the matplotlib [hist()](https://matplotlib.org/3.3.1/api/_as_gen/matplotlib.pyplot.hist.html) function, we can see the differences between these two sets of random numbers:"
   ]
  },
  {
   "cell_type": "code",
   "execution_count": 19,
   "metadata": {},
   "outputs": [
    {
     "data": {
      "text/plain": [
       "<matplotlib.legend.Legend at 0x1b3ab2e45b0>"
      ]
     },
     "execution_count": 19,
     "metadata": {},
     "output_type": "execute_result"
    },
    {
     "data": {
      "image/png": "[encoded data removed]",
      "text/plain": [
       "<Figure size 432x288 with 1 Axes>"
      ]
     },
     "metadata": {
      "needs_background": "light"
     },
     "output_type": "display_data"
    }
   ],
   "source": [
    "import matplotlib.pyplot as plt\n",
    "\n",
    "fig,ax = plt.subplots()\n",
    "\n",
    "ax.hist(uniform, alpha=0.5, label=\"Random uniform\")\n",
    "ax.hist(normal, alpha=0.5, label=\"Random normal\")\n",
    "\n",
    "ax.legend()"
   ]
  },
  {
   "cell_type": "markdown",
   "metadata": {},
   "source": [
    "Both of these sets of random numbers contain the same number of points but have been randomly generated using different underlying distributions and so could be used to represent different physical processes."
   ]
  },
  {
   "cell_type": "markdown",
   "metadata": {},
   "source": [
    "---"
   ]
  },
  {
   "cell_type": "markdown",
   "metadata": {},
   "source": [
    "*Extended*: have a look at the full list of distributions available in `numpy.random`: https://numpy.org/doc/stable/reference/random/generator.html#distributions\n",
    "\n",
    "1. For an underlying exponential distribution, generate the same number of random points (`number_of_points`) as the uniform distribution above. Set the scale parameters to be 0.1 and call output variable `exponential`. Use the code below to plot a comparison as a histogram.\n",
    "2. Can you generate an exponential-like distribution using values from the `random()` function?"
   ]
  },
  {
   "cell_type": "code",
   "execution_count": 20,
   "metadata": {},
   "outputs": [],
   "source": [
    "## CAN ADD CODE HERE"
   ]
  },
  {
   "cell_type": "code",
   "execution_count": 21,
   "metadata": {},
   "outputs": [],
   "source": [
    "### UNCOMMENT AND USE TO PLOT COMPARISON WITH UNIFORM DISTRIBUTION\n",
    "#import matplotlib.pyplot as plt\n",
    "#\n",
    "#fig,ax = plt.subplots()\n",
    "#\n",
    "#ax.hist(uniform, alpha=0.5, color=\"C0\", label=\"Random uniform\")\n",
    "#ax.hist(exponential, alpha=0.5, color=\"C2\", label=\"Random exponential\")\n",
    "#\n",
    "#ax.legend()"
   ]
  },
  {
   "cell_type": "markdown",
   "metadata": {},
   "source": [
    "---"
   ]
  }
 ],
 "metadata": {
  "kernelspec": {
   "display_name": "Python 3",
   "language": "python",
   "name": "python3"
  },
  "language_info": {
   "codemirror_mode": {
    "name": "ipython",
    "version": 3
   },
   "file_extension": ".py",
   "mimetype": "text/x-python",
   "name": "python",
   "nbconvert_exporter": "python",
   "pygments_lexer": "ipython3",
   "version": "3.8.3"
  }
 },
 "nbformat": 4,
 "nbformat_minor": 4
}
